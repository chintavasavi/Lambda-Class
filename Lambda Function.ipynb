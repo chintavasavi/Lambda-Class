{
 "cells": [
  {
   "cell_type": "markdown",
   "id": "6b84a135",
   "metadata": {},
   "source": [
    "# Lambda Function"
   ]
  },
  {
   "cell_type": "markdown",
   "id": "76cfc53e",
   "metadata": {},
   "source": [
    "Nameless or ananymous Function"
   ]
  },
  {
   "cell_type": "code",
   "execution_count": 6,
   "id": "6195d442",
   "metadata": {},
   "outputs": [
    {
     "data": {
      "text/plain": [
       "25"
      ]
     },
     "execution_count": 6,
     "metadata": {},
     "output_type": "execute_result"
    }
   ],
   "source": [
    "def square(n):\n",
    "    return n**2\n",
    "square(5)"
   ]
  },
  {
   "cell_type": "markdown",
   "id": "97aba2cf",
   "metadata": {},
   "source": [
    "Lambda parameters : expression /LOgic"
   ]
  },
  {
   "cell_type": "code",
   "execution_count": 7,
   "id": "9faddb98",
   "metadata": {},
   "outputs": [
    {
     "data": {
      "text/plain": [
       "25"
      ]
     },
     "execution_count": 7,
     "metadata": {},
     "output_type": "execute_result"
    }
   ],
   "source": [
    "C = lambda n : n**2\n",
    "C(5)"
   ]
  },
  {
   "cell_type": "markdown",
   "id": "5df26db7",
   "metadata": {},
   "source": [
    "Sum of give numberm"
   ]
  },
  {
   "cell_type": "code",
   "execution_count": 4,
   "id": "c37fe189",
   "metadata": {},
   "outputs": [],
   "source": [
    "def add(*n):\n",
    "    return sum(n)"
   ]
  },
  {
   "cell_type": "code",
   "execution_count": 5,
   "id": "b26170dc",
   "metadata": {},
   "outputs": [
    {
     "data": {
      "text/plain": [
       "15"
      ]
     },
     "execution_count": 5,
     "metadata": {},
     "output_type": "execute_result"
    }
   ],
   "source": [
    "add(1,2,3,4,5)"
   ]
  },
  {
   "cell_type": "code",
   "execution_count": 8,
   "id": "076dc9e3",
   "metadata": {},
   "outputs": [],
   "source": [
    "C = lambda *n : sum(n)"
   ]
  },
  {
   "cell_type": "code",
   "execution_count": 10,
   "id": "2983d3af",
   "metadata": {},
   "outputs": [
    {
     "data": {
      "text/plain": [
       "45"
      ]
     },
     "execution_count": 10,
     "metadata": {},
     "output_type": "execute_result"
    }
   ],
   "source": [
    "C(1,2,3,4,5,6,7,8,9)"
   ]
  },
  {
   "cell_type": "code",
   "execution_count": 11,
   "id": "92609ed0",
   "metadata": {},
   "outputs": [],
   "source": [
    "#create a lambda function to find square root of given values"
   ]
  },
  {
   "cell_type": "code",
   "execution_count": 13,
   "id": "7196a338",
   "metadata": {},
   "outputs": [
    {
     "data": {
      "text/plain": [
       "36"
      ]
     },
     "execution_count": 13,
     "metadata": {},
     "output_type": "execute_result"
    }
   ],
   "source": [
    "C = lambda n : n**2\n",
    "C(6)"
   ]
  },
  {
   "cell_type": "code",
   "execution_count": 14,
   "id": "7ad5044a",
   "metadata": {},
   "outputs": [],
   "source": [
    "#Create  lambda function that will perform addition of three numbers"
   ]
  },
  {
   "cell_type": "code",
   "execution_count": 15,
   "id": "a024cd92",
   "metadata": {},
   "outputs": [
    {
     "data": {
      "text/plain": [
       "11"
      ]
     },
     "execution_count": 15,
     "metadata": {},
     "output_type": "execute_result"
    }
   ],
   "source": [
    "a = lambda *n : sum(n)\n",
    "a(3,6,2)"
   ]
  },
  {
   "cell_type": "code",
   "execution_count": 17,
   "id": "435dfa65",
   "metadata": {},
   "outputs": [
    {
     "data": {
      "text/plain": [
       "45"
      ]
     },
     "execution_count": 17,
     "metadata": {},
     "output_type": "execute_result"
    }
   ],
   "source": [
    "val = lambda x,y,z : x+y+z\n",
    "val(10,15,20)"
   ]
  },
  {
   "cell_type": "markdown",
   "id": "cf80ce44",
   "metadata": {},
   "source": [
    "Recursion :\n",
    "    \n",
    "    The function calls itself. (or) Function in the same function."
   ]
  },
  {
   "cell_type": "markdown",
   "id": "56052cd3",
   "metadata": {},
   "source": [
    "# Recursive Functions"
   ]
  },
  {
   "cell_type": "code",
   "execution_count": 1,
   "id": "ecd85f11",
   "metadata": {},
   "outputs": [],
   "source": [
    "def factorial(n):\n",
    "    if n== 0 or n==1:\n",
    "        return 1\n",
    "    else:\n",
    "        fact = n * factorial(n-1)\n",
    "    return fact"
   ]
  },
  {
   "cell_type": "code",
   "execution_count": 3,
   "id": "6ca736e8",
   "metadata": {},
   "outputs": [
    {
     "data": {
      "text/plain": [
       "3628800"
      ]
     },
     "execution_count": 3,
     "metadata": {},
     "output_type": "execute_result"
    }
   ],
   "source": [
    "factorial(10)"
   ]
  },
  {
   "cell_type": "markdown",
   "id": "f0a01eff",
   "metadata": {},
   "source": [
    "# Factorial:"
   ]
  },
  {
   "cell_type": "markdown",
   "id": "c0749ddd",
   "metadata": {},
   "source": [
    "1! =1\n",
    "0! =1"
   ]
  },
  {
   "cell_type": "markdown",
   "id": "fbb9daa1",
   "metadata": {},
   "source": [
    "formula :\n",
    "    n* factorial(n-1)"
   ]
  },
  {
   "cell_type": "markdown",
   "id": "446c6ae7",
   "metadata": {},
   "source": [
    "# Fibonacci Sequence"
   ]
  },
  {
   "cell_type": "code",
   "execution_count": 17,
   "id": "8c2afdd8",
   "metadata": {},
   "outputs": [],
   "source": [
    "def fib(n):\n",
    "    if n <= 1:\n",
    "        return n\n",
    "    else:\n",
    "        return fib(n-1)+fib(n-2)"
   ]
  },
  {
   "cell_type": "code",
   "execution_count": 18,
   "id": "dfcd2623",
   "metadata": {},
   "outputs": [
    {
     "data": {
      "text/plain": [
       "8"
      ]
     },
     "execution_count": 18,
     "metadata": {},
     "output_type": "execute_result"
    }
   ],
   "source": [
    "fib(6)"
   ]
  },
  {
   "cell_type": "code",
   "execution_count": 19,
   "id": "d38531a8",
   "metadata": {},
   "outputs": [
    {
     "name": "stdout",
     "output_type": "stream",
     "text": [
      "0\n",
      "1\n",
      "1\n",
      "2\n",
      "3\n",
      "5\n",
      "8\n",
      "13\n"
     ]
    }
   ],
   "source": [
    "n = 8\n",
    "for i in range(n):\n",
    "    print(fib(i))"
   ]
  },
  {
   "cell_type": "code",
   "execution_count": 33,
   "id": "376e2dc3",
   "metadata": {},
   "outputs": [],
   "source": [
    "def fib(n):\n",
    "    if n<=1:\n",
    "        return n\n",
    "    else:\n",
    "        return fib(n-1)+fib(n-2)"
   ]
  },
  {
   "cell_type": "code",
   "execution_count": 34,
   "id": "669119be",
   "metadata": {},
   "outputs": [
    {
     "name": "stdout",
     "output_type": "stream",
     "text": [
      "0\n",
      "1\n",
      "1\n",
      "2\n",
      "3\n"
     ]
    }
   ],
   "source": [
    "n=5\n",
    "for i in range(n):\n",
    "    print(fib(i))"
   ]
  },
  {
   "cell_type": "code",
   "execution_count": 35,
   "id": "955cf18f",
   "metadata": {},
   "outputs": [],
   "source": [
    "#ask user to enter find the to entering the number to find the numbers of sequance in fibonacci sequancem"
   ]
  },
  {
   "cell_type": "code",
   "execution_count": 30,
   "id": "22ed0fcd",
   "metadata": {},
   "outputs": [],
   "source": [
    "def fib(n):\n",
    "    if n<=1:\n",
    "        return n\n",
    "    else:\n",
    "        return fib(n-1)+fib(n-2)"
   ]
  },
  {
   "cell_type": "code",
   "execution_count": 31,
   "id": "f1d289ca",
   "metadata": {},
   "outputs": [
    {
     "name": "stdout",
     "output_type": "stream",
     "text": [
      "enter the number :: 12\n",
      "0\n",
      "1\n",
      "1\n",
      "2\n",
      "3\n",
      "5\n",
      "8\n",
      "13\n",
      "21\n",
      "34\n",
      "55\n",
      "89\n"
     ]
    }
   ],
   "source": [
    "n = int(input(\"enter the number :: \"))\n",
    "for i in  range(n):\n",
    "    print(fib(i))"
   ]
  },
  {
   "cell_type": "markdown",
   "id": "ad5aa3d6",
   "metadata": {},
   "source": [
    "# Filter Function"
   ]
  },
  {
   "cell_type": "markdown",
   "id": "9be58e70",
   "metadata": {},
   "source": [
    "filter() :\n",
    "    \n",
    "    Based condition in function.\n",
    "    \n",
    "    \n",
    "    filter(functionname , values/Sequance(list,tuple or sting))"
   ]
  },
  {
   "cell_type": "markdown",
   "id": "79ed04bc",
   "metadata": {},
   "source": [
    "filter(fname , sequeance)\n",
    " seq = [1,2,3,4,5,6,7,8]\n",
    "    find/filter only even numbers\n",
    "    \n",
    "    \n",
    "    "
   ]
  },
  {
   "cell_type": "code",
   "execution_count": 4,
   "id": "3643c36c",
   "metadata": {},
   "outputs": [],
   "source": [
    "def even(n):\n",
    "    if n%2 == 0:\n",
    "        return n"
   ]
  },
  {
   "cell_type": "code",
   "execution_count": 5,
   "id": "9d9b6bbc",
   "metadata": {},
   "outputs": [],
   "source": [
    "list1 = [1,2,3,4,5,6,7,8]"
   ]
  },
  {
   "cell_type": "code",
   "execution_count": 6,
   "id": "4e1a2c67",
   "metadata": {},
   "outputs": [
    {
     "data": {
      "text/plain": [
       "[2, 4, 6, 8]"
      ]
     },
     "execution_count": 6,
     "metadata": {},
     "output_type": "execute_result"
    }
   ],
   "source": [
    "list(filter(even,list1))"
   ]
  },
  {
   "cell_type": "code",
   "execution_count": 2,
   "id": "1335e483",
   "metadata": {},
   "outputs": [
    {
     "data": {
      "text/plain": [
       "[1, 2, 3, 4, 5, 6, 7, 8, 9]"
      ]
     },
     "execution_count": 2,
     "metadata": {},
     "output_type": "execute_result"
    }
   ],
   "source": [
    "list(range(1,10))"
   ]
  },
  {
   "cell_type": "code",
   "execution_count": 9,
   "id": "05eeef5f",
   "metadata": {},
   "outputs": [
    {
     "data": {
      "text/plain": [
       "[2, 10]"
      ]
     },
     "execution_count": 9,
     "metadata": {},
     "output_type": "execute_result"
    }
   ],
   "source": [
    "list(filter(lambda x: x%2==0,[2,5,7,9,10,15,25]))"
   ]
  },
  {
   "cell_type": "markdown",
   "id": "e0cca104",
   "metadata": {},
   "source": [
    "#using filter function find only postive values in [1,-10,2,0,15,21,56,-1,0.5,-3]"
   ]
  },
  {
   "cell_type": "code",
   "execution_count": 12,
   "id": "80c4b83a",
   "metadata": {},
   "outputs": [],
   "source": [
    "def fun(n):\n",
    "    if n%2 == 0:\n",
    "        return n"
   ]
  },
  {
   "cell_type": "code",
   "execution_count": 15,
   "id": "70b919c6",
   "metadata": {},
   "outputs": [],
   "source": [
    "list1 = [1,2,0,15,21,56,0.5]"
   ]
  },
  {
   "cell_type": "code",
   "execution_count": 16,
   "id": "ac389e5b",
   "metadata": {},
   "outputs": [
    {
     "data": {
      "text/plain": [
       "[2, 56]"
      ]
     },
     "execution_count": 16,
     "metadata": {},
     "output_type": "execute_result"
    }
   ],
   "source": [
    "list(filter(fun,list1))"
   ]
  },
  {
   "cell_type": "code",
   "execution_count": 17,
   "id": "83b0d55b",
   "metadata": {},
   "outputs": [
    {
     "data": {
      "text/plain": [
       "[0,\n",
       " 1,\n",
       " 2,\n",
       " 3,\n",
       " 4,\n",
       " 5,\n",
       " 6,\n",
       " 7,\n",
       " 8,\n",
       " 9,\n",
       " 10,\n",
       " 11,\n",
       " 12,\n",
       " 13,\n",
       " 14,\n",
       " 15,\n",
       " 16,\n",
       " 17,\n",
       " 18,\n",
       " 19,\n",
       " 20,\n",
       " 21,\n",
       " 22,\n",
       " 23,\n",
       " 24,\n",
       " 25,\n",
       " 26,\n",
       " 27,\n",
       " 28,\n",
       " 29,\n",
       " 30,\n",
       " 31,\n",
       " 32,\n",
       " 33,\n",
       " 34,\n",
       " 35,\n",
       " 36,\n",
       " 37,\n",
       " 38,\n",
       " 39,\n",
       " 40,\n",
       " 41,\n",
       " 42,\n",
       " 43,\n",
       " 44,\n",
       " 45,\n",
       " 46,\n",
       " 47,\n",
       " 48,\n",
       " 49,\n",
       " 50,\n",
       " 51,\n",
       " 52,\n",
       " 53,\n",
       " 54,\n",
       " 55]"
      ]
     },
     "execution_count": 17,
     "metadata": {},
     "output_type": "execute_result"
    }
   ],
   "source": [
    "list(range(0,56))"
   ]
  },
  {
   "cell_type": "code",
   "execution_count": null,
   "id": "2abc6d40",
   "metadata": {},
   "outputs": [],
   "source": [
    "filter(lambda x:x>=0,[1,-10,2,0,15,21,56,-1,0.5,-3])"
   ]
  },
  {
   "cell_type": "code",
   "execution_count": null,
   "id": "172bdcf5",
   "metadata": {},
   "outputs": [],
   "source": []
  },
  {
   "cell_type": "markdown",
   "id": "4502971a",
   "metadata": {},
   "source": [
    "Mapping():\n",
    "    \n",
    "    \n",
    "    map(function,sequence)"
   ]
  },
  {
   "cell_type": "markdown",
   "id": "3ae01231",
   "metadata": {},
   "source": [
    "# map()"
   ]
  },
  {
   "cell_type": "code",
   "execution_count": 18,
   "id": "ab064dcf",
   "metadata": {},
   "outputs": [],
   "source": [
    "def fun(n):\n",
    "    if n%2 ==0:\n",
    "        return \"Even\"\n",
    "    else:\n",
    "        return \"odd\""
   ]
  },
  {
   "cell_type": "code",
   "execution_count": 19,
   "id": "00098698",
   "metadata": {},
   "outputs": [
    {
     "data": {
      "text/plain": [
       "[51, 52, 53, 54, 55, 56, 57, 58, 59, 60, 61, 62, 63, 64]"
      ]
     },
     "execution_count": 19,
     "metadata": {},
     "output_type": "execute_result"
    }
   ],
   "source": [
    "values = list(range(51,65))\n",
    "values"
   ]
  },
  {
   "cell_type": "code",
   "execution_count": 24,
   "id": "9a786e84",
   "metadata": {},
   "outputs": [
    {
     "data": {
      "text/plain": [
       "['odd',\n",
       " 'Even',\n",
       " 'odd',\n",
       " 'Even',\n",
       " 'odd',\n",
       " 'Even',\n",
       " 'odd',\n",
       " 'Even',\n",
       " 'odd',\n",
       " 'Even',\n",
       " 'odd',\n",
       " 'Even',\n",
       " 'odd',\n",
       " 'Even']"
      ]
     },
     "execution_count": 24,
     "metadata": {},
     "output_type": "execute_result"
    }
   ],
   "source": [
    "list(map(fun,values))"
   ]
  },
  {
   "cell_type": "code",
   "execution_count": 25,
   "id": "5cf4476f",
   "metadata": {},
   "outputs": [],
   "source": [
    "list2 =[1,-10,2,0,15,21,56,-1,0.5,-3]\n",
    "\n",
    "def f(n):\n",
    "    if n>=0:\n",
    "        return\"p\"\n",
    "    else:\n",
    "        return \"N\"\n",
    "    "
   ]
  },
  {
   "cell_type": "code",
   "execution_count": 26,
   "id": "86187d07",
   "metadata": {},
   "outputs": [
    {
     "data": {
      "text/plain": [
       "['p', 'N', 'p', 'p', 'p', 'p', 'p', 'N', 'p', 'N']"
      ]
     },
     "execution_count": 26,
     "metadata": {},
     "output_type": "execute_result"
    }
   ],
   "source": [
    "list(map(f,list2))"
   ]
  },
  {
   "cell_type": "code",
   "execution_count": 27,
   "id": "db940839",
   "metadata": {},
   "outputs": [
    {
     "data": {
      "text/plain": [
       "{'N', 'p'}"
      ]
     },
     "execution_count": 27,
     "metadata": {},
     "output_type": "execute_result"
    }
   ],
   "source": [
    "set(map(f,list2))"
   ]
  },
  {
   "cell_type": "markdown",
   "id": "f8f4faec",
   "metadata": {},
   "source": [
    "#Take combination of numbers take integers float and string and print only float values.\n",
    "2. print only strings\n",
    "\n",
    "3. in the place of integer values or replace integer values with a name is called integer."
   ]
  },
  {
   "cell_type": "code",
   "execution_count": null,
   "id": "27049c92",
   "metadata": {},
   "outputs": [],
   "source": []
  },
  {
   "cell_type": "code",
   "execution_count": null,
   "id": "0901e5d2",
   "metadata": {},
   "outputs": [],
   "source": [
    "def fun(n):\n",
    "    if n%2 ==0:\n",
    "        return \"Even\"\n",
    "    else:\n",
    "        return \"odd\""
   ]
  },
  {
   "cell_type": "code",
   "execution_count": null,
   "id": "f5a6b3ee",
   "metadata": {},
   "outputs": [],
   "source": []
  },
  {
   "cell_type": "markdown",
   "id": "7d8876ad",
   "metadata": {},
   "source": [
    "Reduce:\n",
    " \n",
    "Single value.\n",
    "    \n",
    "    \n",
    "    *filter*() -- condition (x %2 == 0)\n",
    "    *map() -- every functionality on every element in sequance\n",
    "    \n",
    "    \n",
    "    "
   ]
  },
  {
   "cell_type": "markdown",
   "id": "466a2f1f",
   "metadata": {},
   "source": [
    "# Reduce()"
   ]
  },
  {
   "cell_type": "code",
   "execution_count": 1,
   "id": "2a67a134",
   "metadata": {},
   "outputs": [
    {
     "ename": "NameError",
     "evalue": "name 'reduce' is not defined",
     "output_type": "error",
     "traceback": [
      "\u001b[1;31m---------------------------------------------------------------------------\u001b[0m",
      "\u001b[1;31mNameError\u001b[0m                                 Traceback (most recent call last)",
      "Cell \u001b[1;32mIn[1], line 1\u001b[0m\n\u001b[1;32m----> 1\u001b[0m reduce()\n",
      "\u001b[1;31mNameError\u001b[0m: name 'reduce' is not defined"
     ]
    }
   ],
   "source": [
    "reduce()"
   ]
  },
  {
   "cell_type": "code",
   "execution_count": 2,
   "id": "2c333940",
   "metadata": {},
   "outputs": [
    {
     "ename": "TypeError",
     "evalue": "filter expected 2 arguments, got 0",
     "output_type": "error",
     "traceback": [
      "\u001b[1;31m---------------------------------------------------------------------------\u001b[0m",
      "\u001b[1;31mTypeError\u001b[0m                                 Traceback (most recent call last)",
      "Cell \u001b[1;32mIn[2], line 1\u001b[0m\n\u001b[1;32m----> 1\u001b[0m \u001b[38;5;28mfilter\u001b[39m()\n",
      "\u001b[1;31mTypeError\u001b[0m: filter expected 2 arguments, got 0"
     ]
    }
   ],
   "source": [
    "filter()"
   ]
  },
  {
   "cell_type": "code",
   "execution_count": 6,
   "id": "aabc7c87",
   "metadata": {},
   "outputs": [],
   "source": [
    "from  functools import reduce"
   ]
  },
  {
   "cell_type": "code",
   "execution_count": 7,
   "id": "e1ba9ebe",
   "metadata": {},
   "outputs": [],
   "source": [
    "def add(x,y):\n",
    "    return x+y"
   ]
  },
  {
   "cell_type": "code",
   "execution_count": 8,
   "id": "f9b6cc68",
   "metadata": {},
   "outputs": [],
   "source": [
    "val = list(range(1,10))"
   ]
  },
  {
   "cell_type": "code",
   "execution_count": 9,
   "id": "37e6c429",
   "metadata": {},
   "outputs": [
    {
     "data": {
      "text/plain": [
       "45"
      ]
     },
     "execution_count": 9,
     "metadata": {},
     "output_type": "execute_result"
    }
   ],
   "source": [
    "reduce(add,val)"
   ]
  },
  {
   "cell_type": "code",
   "execution_count": 12,
   "id": "d302f6b3",
   "metadata": {},
   "outputs": [],
   "source": [
    "def fact(a,b):\n",
    "    return a*b"
   ]
  },
  {
   "cell_type": "code",
   "execution_count": 13,
   "id": "d1668c1b",
   "metadata": {},
   "outputs": [
    {
     "name": "stdout",
     "output_type": "stream",
     "text": [
      "Enter a number to find the factorial:: 5\n"
     ]
    },
    {
     "data": {
      "text/plain": [
       "120"
      ]
     },
     "execution_count": 13,
     "metadata": {},
     "output_type": "execute_result"
    }
   ],
   "source": [
    "n = int(input(\"Enter a number to find the factorial:: \"))\n",
    "seq = tuple(range(1,n+1))\n",
    "reduce(fact,seq)"
   ]
  },
  {
   "cell_type": "markdown",
   "id": "787b81f9",
   "metadata": {},
   "source": [
    "# Zip()"
   ]
  },
  {
   "cell_type": "code",
   "execution_count": 15,
   "id": "4efd6452",
   "metadata": {},
   "outputs": [
    {
     "name": "stdout",
     "output_type": "stream",
     "text": [
      "('apple', 'Tomoto', 1)\n",
      "('watermelon', 'carrot', 2)\n",
      "('Banana', 'potato', 3)\n",
      "('Grapes', 'Onion', 4)\n"
     ]
    }
   ],
   "source": [
    "fruits = [\"apple\",\"watermelon\",\"Banana\",\"Grapes\",\"Orange\"]\n",
    "veg = (\"Tomoto\",\"carrot\",\"potato\",\"Onion\")\n",
    "number = (1,2,3,4,5,6)\n",
    "for i in zip(fruits,veg ,number):\n",
    "    print(i)"
   ]
  },
  {
   "cell_type": "markdown",
   "id": "004cea27",
   "metadata": {},
   "source": [
    "### Enumerate()"
   ]
  },
  {
   "cell_type": "markdown",
   "id": "5eede84f",
   "metadata": {},
   "source": [
    "*Count the number of iteration\n",
    "* if we want to assign an index number."
   ]
  },
  {
   "cell_type": "code",
   "execution_count": 16,
   "id": "9797e1bb",
   "metadata": {},
   "outputs": [
    {
     "name": "stdout",
     "output_type": "stream",
     "text": [
      "(0, 'apple')\n",
      "(1, 'watermelon')\n",
      "(2, 'Banana')\n",
      "(3, 'Grapes')\n",
      "(4, 'Orange')\n"
     ]
    }
   ],
   "source": [
    "for i in enumerate(fruits):\n",
    "    print(i)"
   ]
  },
  {
   "cell_type": "code",
   "execution_count": 18,
   "id": "1eda0c27",
   "metadata": {},
   "outputs": [
    {
     "name": "stdout",
     "output_type": "stream",
     "text": [
      "(5, 'apple')\n",
      "(6, 'watermelon')\n",
      "(7, 'Banana')\n",
      "(8, 'Grapes')\n",
      "(9, 'Orange')\n"
     ]
    }
   ],
   "source": [
    "for i in enumerate(fruits,5):\n",
    "    print(i)"
   ]
  },
  {
   "cell_type": "code",
   "execution_count": 20,
   "id": "f4ccce3b",
   "metadata": {},
   "outputs": [
    {
     "name": "stdout",
     "output_type": "stream",
     "text": [
      "(2, 'Tomoto')\n",
      "(3, 'carrot')\n",
      "(4, 'potato')\n",
      "(5, 'Onion')\n"
     ]
    }
   ],
   "source": [
    "for i in enumerate(veg,2):\n",
    "                  print(i)"
   ]
  },
  {
   "cell_type": "code",
   "execution_count": 30,
   "id": "0fd2726d",
   "metadata": {},
   "outputs": [
    {
     "name": "stdout",
     "output_type": "stream",
     "text": [
      "(1, 1)\n",
      "(2, 2)\n",
      "(3, 3)\n",
      "(4, 4)\n",
      "(5, 5)\n",
      "(6, 6)\n"
     ]
    }
   ],
   "source": [
    "for i in enumerate(number,1):\n",
    "    print(i)"
   ]
  },
  {
   "cell_type": "markdown",
   "id": "3114e6b6",
   "metadata": {},
   "source": [
    "Create a function that accepts multiple values and return to sum of all numbers\n",
    "\n",
    "1.using normal method\n",
    "2.using lambda function \n",
    "3.using reduce function"
   ]
  },
  {
   "cell_type": "code",
   "execution_count": 4,
   "id": "8065da38",
   "metadata": {},
   "outputs": [
    {
     "data": {
      "text/plain": [
       "27"
      ]
     },
     "execution_count": 4,
     "metadata": {},
     "output_type": "execute_result"
    }
   ],
   "source": [
    "#normal method \n",
    "\n",
    "def add(*n):\n",
    "    return sum(n)\n",
    "add(2,3,6,7,9)\n"
   ]
  },
  {
   "cell_type": "code",
   "execution_count": 5,
   "id": "f41c36b9",
   "metadata": {},
   "outputs": [
    {
     "data": {
      "text/plain": [
       "100"
      ]
     },
     "execution_count": 5,
     "metadata": {},
     "output_type": "execute_result"
    }
   ],
   "source": [
    "#lambda\n",
    "\n",
    "c = lambda *n: sum(n)\n",
    "c(10,20,30,40)"
   ]
  },
  {
   "cell_type": "code",
   "execution_count": 6,
   "id": "39304f22",
   "metadata": {},
   "outputs": [
    {
     "data": {
      "text/plain": [
       "66"
      ]
     },
     "execution_count": 6,
     "metadata": {},
     "output_type": "execute_result"
    }
   ],
   "source": [
    "#reduce\n",
    "\n",
    "from functools import reduce\n",
    "reduce(add,[22,13,15,16])"
   ]
  },
  {
   "cell_type": "markdown",
   "id": "f56d3bca",
   "metadata": {},
   "source": [
    "web = [\"www.fb.com\",\"http://insta.com\",\"www.innomatics.com\",\"www.hdfc\",\"htt.oracle.com\",\"www.hy.co.in\"]\n",
    "\n",
    "\n",
    "-->find the valid websites using\n",
    "\n",
    "*procedure\n",
    "\n",
    "\n",
    "*function\n",
    "\n",
    "\n",
    "*lambda\n",
    "\n",
    "\n",
    "*filter function"
   ]
  },
  {
   "cell_type": "code",
   "execution_count": 1,
   "id": "0425a477",
   "metadata": {},
   "outputs": [],
   "source": [
    "#Normal Method:\n",
    "web = [\"www.fb.com\",\"http://insta.com\",\"www.innomatics.com\",\"www.hdfc\",\"htt.oracle.com\",\"www.hy.co.in\"]\n",
    "for i in web:\n",
    "    if i.startswith(('www,http://')) and i.endswith(('.com','co.in')):\n",
    "        print(i)\n",
    "    \n",
    "        "
   ]
  },
  {
   "cell_type": "code",
   "execution_count": 2,
   "id": "121cf168",
   "metadata": {},
   "outputs": [],
   "source": [
    "#Functional Programming\n",
    "\n",
    "def vali(*n):\n",
    "    for i in n:\n",
    "        if i.startswith(('www.','https://%27%29/') and i.endswith('.com','co.in')):\n",
    "            print(i)\n",
    "\n",
    "\n"
   ]
  },
  {
   "cell_type": "code",
   "execution_count": 3,
   "id": "fb174579",
   "metadata": {},
   "outputs": [
    {
     "ename": "SyntaxError",
     "evalue": "unterminated string literal (detected at line 3) (1115749527.py, line 3)",
     "output_type": "error",
     "traceback": [
      "\u001b[1;36m  Cell \u001b[1;32mIn[3], line 3\u001b[1;36m\u001b[0m\n\u001b[1;33m    c = lambda i :i.startswith(('www.','https://%27%29/) and i.endswith(('.com','co.in'))\u001b[0m\n\u001b[1;37m                                                                                      ^\u001b[0m\n\u001b[1;31mSyntaxError\u001b[0m\u001b[1;31m:\u001b[0m unterminated string literal (detected at line 3)\n"
     ]
    }
   ],
   "source": [
    "#Lambda Function\n",
    "\n",
    "c = lambda i :i.startswith(('www.','https://%27%29/) and i.endswith(('.com','co.in'))\n",
    "for i in web :\n",
    "    print(c(i))\n",
    "Filter:\n",
    "\n",
    "list(filter(valid,web))\n",
    "for i in web :\n",
    "    if c(i) == True:\n",
    "        print(i)"
   ]
  },
  {
   "cell_type": "code",
   "execution_count": null,
   "id": "256068b5",
   "metadata": {},
   "outputs": [],
   "source": []
  },
  {
   "cell_type": "code",
   "execution_count": null,
   "id": "7f4fae83",
   "metadata": {},
   "outputs": [],
   "source": []
  }
 ],
 "metadata": {
  "kernelspec": {
   "display_name": "Python 3 (ipykernel)",
   "language": "python",
   "name": "python3"
  },
  "language_info": {
   "codemirror_mode": {
    "name": "ipython",
    "version": 3
   },
   "file_extension": ".py",
   "mimetype": "text/x-python",
   "name": "python",
   "nbconvert_exporter": "python",
   "pygments_lexer": "ipython3",
   "version": "3.11.4"
  }
 },
 "nbformat": 4,
 "nbformat_minor": 5
}
